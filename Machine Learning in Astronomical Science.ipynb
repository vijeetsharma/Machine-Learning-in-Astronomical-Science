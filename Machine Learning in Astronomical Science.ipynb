{
 "cells": [
  {
   "cell_type": "markdown",
   "metadata": {},
   "source": [
    "## K -means Algorithm"
   ]
  },
  {
   "cell_type": "code",
   "execution_count": 1,
   "metadata": {},
   "outputs": [],
   "source": [
    "import numpy as np"
   ]
  },
  {
   "cell_type": "code",
   "execution_count": 2,
   "metadata": {},
   "outputs": [],
   "source": [
    "import scipy.io as sio\n",
    "juneMatrix = sio.loadmat('C:/Users/vijee/OneDrive/Desktop/Assignment/Sem-2/MLSP/Assignment2/data (1)/june.mat')\n",
    "juneMatrix = juneMatrix[\"june\"]\n",
    "\n",
    "decemberMatrix = sio.loadmat('C:/Users/vijee/OneDrive/Desktop/Assignment/Sem-2/MLSP/Assignment2/data (1)/december.mat')\n",
    "decemberMatrix = decemberMatrix[\"december\"]"
   ]
  },
  {
   "cell_type": "code",
   "execution_count": 3,
   "metadata": {},
   "outputs": [
    {
     "data": {
      "text/plain": [
       "2700"
      ]
     },
     "execution_count": 3,
     "metadata": {},
     "output_type": "execute_result"
    }
   ],
   "source": [
    "xDisparity =  decemberMatrix[:,0] - juneMatrix[:,0] \n",
    "len(xDisparity)"
   ]
  },
  {
   "cell_type": "code",
   "execution_count": 4,
   "metadata": {},
   "outputs": [
    {
     "data": {
      "text/plain": [
       "<Figure size 640x480 with 1 Axes>"
      ]
     },
     "metadata": {},
     "output_type": "display_data"
    }
   ],
   "source": [
    "from matplotlib import pyplot as plt\n",
    "plt.hist(xDisparity)\n",
    "plt.show()"
   ]
  },
  {
   "cell_type": "code",
   "execution_count": 5,
   "metadata": {},
   "outputs": [
    {
     "name": "stdout",
     "output_type": "stream",
     "text": [
      "38   18\n",
      "40.34421364985163   20.718475073313783\n",
      "40.738576449912124   22.443396226415093\n",
      "40.997744700045104   23.488612836438925\n",
      "41.22664199814986   24.358736059479554\n",
      "Mean of Cluster 1 is 41.22664199814986 and Mean of Cluster 2 is 24.358736059479554\n"
     ]
    }
   ],
   "source": [
    "# K - Means Algorithm\n",
    "\n",
    "import random\n",
    "k = 2\n",
    "cluster1Mean = random.choice(xDisparity)\n",
    "cluster2Mean = random.choice(xDisparity)\n",
    "\n",
    "while cluster1Mean == cluster2Mean:\n",
    "    cluster2Mean = random.choice(xDisparity)\n",
    "    \n",
    "prevCluster1Mean = -1\n",
    "prevCluster2Mean =  -1\n",
    "uMatrix =[]\n",
    "cluster1Mat =[]\n",
    "cluster2Mat=[]\n",
    "while(True):\n",
    "    tempMatrix = []\n",
    "    cluster1 =[]\n",
    "    cluster2=[]\n",
    "    if cluster1Mean != prevCluster1Mean  and cluster2Mean != prevCluster2Mean:\n",
    "        for i in range(len(xDisparity)):\n",
    "            if abs(int(xDisparity[i]) - cluster1Mean) <  abs(int(xDisparity[i]) - cluster2Mean):\n",
    "                cluster1.append(xDisparity[i])\n",
    "                tempMatrix.append((1,0))\n",
    "            else:\n",
    "                cluster2.append(xDisparity[i])\n",
    "                tempMatrix.append((0,1))\n",
    "        prevCluster1Mean, prevCluster2Mean = cluster1Mean, cluster2Mean\n",
    "        print(cluster1Mean,\" \",cluster2Mean)\n",
    "        \n",
    "        uMatrix = tempMatrix\n",
    "        cluster1Mat = cluster1\n",
    "        cluster2Mat = cluster2\n",
    "        #print(uMatrix)\n",
    "        cluster1Mean = np.mean(cluster1)\n",
    "        cluster2Mean = np.mean(cluster2)\n",
    "    else:\n",
    "        break\n",
    "uMatrix = np.array(uMatrix)\n",
    "#print(cluster2Mat)\n",
    "print(\"Mean of Cluster 1 is\", cluster1Mean , \"and Mean of Cluster 2 is\", cluster2Mean)"
   ]
  },
  {
   "cell_type": "markdown",
   "metadata": {},
   "source": [
    "## EM Algorithm"
   ]
  },
  {
   "cell_type": "code",
   "execution_count": 7,
   "metadata": {},
   "outputs": [],
   "source": [
    "# Initializing GMM\n",
    "import math\n",
    "N = len(xDisparity)\n",
    "pro1 = uMatrix[:,0]\n",
    "\n",
    "# Initial Cluster 1 Probability\n",
    "count = 0\n",
    "for i in range(len(pro1)):\n",
    "    if pro1[i] == 1:\n",
    "        count+= 1\n",
    "\n",
    "iniProb1 = count/ len(pro1)\n",
    "\n",
    "pro2 = uMatrix[:,1]\n",
    "\n",
    "# Initial Cluster 2 Probability\n",
    "count2 = 0\n",
    "for i in range(len(pro2)):\n",
    "    if pro2[i] == 1:\n",
    "        count2+= 1\n",
    "\n",
    "iniProb2 = count2/ len(pro2)\n",
    "\n",
    "A =[]\n",
    "A.append(iniProb1)\n",
    "A.append(iniProb2)\n",
    "\n",
    "iniMean = [] \n",
    "iniMean.append(cluster1Mean)\n",
    "iniMean.append(cluster2Mean)\n",
    "\n",
    "\n",
    "# Initial Cluster 1 Variance\n",
    "iniCov1 = 0\n",
    "for i in range(len(cluster1Mat)):\n",
    "    iniCov1 += (cluster1Mat[i] - cluster1Mean)**2\n",
    "iniCov1 = iniCov1/len(cluster1Mat)\n",
    "\n",
    "\n",
    "# Initial Cluster 2 Variance\n",
    "iniCov2 = 0\n",
    "for i in range(len(cluster2Mat)):\n",
    "    iniCov2 += (cluster2Mat[i] - cluster2Mean)**2\n",
    "iniCov2 = iniCov2/len(cluster2Mat)\n",
    "\n",
    "iniVar =[]\n",
    "iniVar.append(iniCov1)\n",
    "iniVar.append(iniCov2)\n",
    "\n",
    "# Creating Membership Matrix\n",
    "iniU = np.zeros((N,2))\n",
    "\n",
    "for i in range(N):\n",
    "    for j in range(2):\n",
    "        f = A[j] * (1) * math.exp((-1/2 * (xDisparity[i] - iniMean[j]) * (xDisparity[i] - iniMean[j])) / (iniVar[j])) / (math.sqrt(2 * math.pi * (iniVar[j])))\n",
    "        if j == 0:\n",
    "            a = 1\n",
    "        else:\n",
    "            a = 0\n",
    "        tem = A[a] *(1) * math.exp((-1/2 * (xDisparity[i] - iniMean[a]) * (xDisparity[i] - iniMean[a]))/ (iniVar[a])) / (math.sqrt(2 * math.pi * (iniVar[a])))\n",
    "        iniU[i,j] = f / (f + tem)\n",
    "\n",
    "iniU = np.array(iniU)"
   ]
  },
  {
   "cell_type": "code",
   "execution_count": 8,
   "metadata": {},
   "outputs": [
    {
     "name": "stdout",
     "output_type": "stream",
     "text": [
      "Mean of Cluster 1 is 40.16252161589064  and Mean of Cluster 2 is  20.904867143761173\n",
      "Value of P1 is 0.8807245158718914  and Value of P2 is 0.11927548412809963\n",
      "Variance of Cluster 1 is 34.058329241062864  and Variance of Cluster 2 is 34.87737459162765\n"
     ]
    }
   ],
   "source": [
    "# EM Algorithm for GMM\n",
    "import math\n",
    "N = len(xDisparity)\n",
    "\n",
    "emcluster1Mean = cluster1Mean\n",
    "emcluster2Mean = cluster2Mean\n",
    "prevCluster1Mean = -1\n",
    "prevCluster2Mean = -1\n",
    "clusterCov1 = 0\n",
    "clusterCov2 =  0\n",
    "emP1 = 0\n",
    "emP2 = 0\n",
    "memberMatrix = iniU\n",
    "\n",
    "\n",
    "while(True):\n",
    "    \n",
    "    if (round(emcluster1Mean,3) != round(prevCluster1Mean,3) and round(emcluster2Mean,3) != round(prevCluster2Mean,3)):\n",
    "        \n",
    "        prevCluster1Mean, prevCluster2Mean = emcluster1Mean, emcluster2Mean\n",
    "        \n",
    "        # Cluster1 - Mean\n",
    "        emMeans1 = 0\n",
    "        total1 = 0\n",
    "        arr1 = memberMatrix[:,0]\n",
    "        for j in range(len(arr1)):\n",
    "            emMeans1 += (arr1[j] * xDisparity[j])\n",
    "            total1 += arr1[j]\n",
    "        emMeans1 = emMeans1/ total1\n",
    "        emcluster1Mean = emMeans1\n",
    "        #print(emMeans1)\n",
    "        #print(emMeans1.dtype)\n",
    "        \n",
    "       \n",
    "        # Cluster2 - Mean\n",
    "        emMeans2 = 0\n",
    "        total2 = 0\n",
    "        arr2 = memberMatrix[:,1]\n",
    "        for j in range(len(arr2)):\n",
    "            emMeans2 += (arr2[j] * xDisparity[j])\n",
    "            total2 += arr2[j]\n",
    "        emMeans2 = emMeans2/ total2\n",
    "        emcluster2Mean = emMeans2\n",
    "       \n",
    "    \n",
    "        # Cluster1 - Probability\n",
    "        P1 = 0\n",
    "        temp1 = memberMatrix[:,0]\n",
    "        for j in range(len(temp1)):\n",
    "            P1 += temp1[j]\n",
    "        P1 = P1 / N\n",
    "        emP1 = P1\n",
    "\n",
    "\n",
    "        # Cluster2 - Probability\n",
    "        P2 = 0\n",
    "        temp2 = memberMatrix[:,1]\n",
    "        for j in range(len(temp2)):\n",
    "            P2 += temp2[j]\n",
    "        P2 = P2 / N\n",
    "        emP2 = P2\n",
    "\n",
    "\n",
    "        # Cluster1 - Covariance\n",
    "        emCov1 =  0\n",
    "        res1 = memberMatrix[:,0]\n",
    "        covTotal1 = 0\n",
    "\n",
    "        for j in range(len(res1)):\n",
    "            emCov1 += res1[j] * (xDisparity[j] - emMeans1) * (xDisparity[j] - emMeans1) \n",
    "            covTotal1 += res1[j]\n",
    "        emCov1 =   emCov1 / covTotal1\n",
    "        clusterCov1 = emCov1\n",
    "\n",
    "        # Cluster2 - Covariance\n",
    "        emCov2 =  0\n",
    "        res2 = memberMatrix[:,1]\n",
    "        covTotal2 = 0 \n",
    "\n",
    "        for j in range(len(res2)):\n",
    "            emCov2 += res2[j] * (xDisparity[j] - emMeans2) * (xDisparity[j] - emMeans2) \n",
    "            covTotal2 += res2[j]\n",
    "        emCov2 =   emCov2 / covTotal2\n",
    "        clusterCov2 = emCov2\n",
    "        \n",
    "        \n",
    "\n",
    "        # creating a Membership matrix\n",
    "\n",
    "        #pdfFunction =  math.e ** (-1 *1j * (2 * math.pi * f* n /N))\n",
    "        P =[]\n",
    "        P.append(P1)\n",
    "        P.append(P2)\n",
    "        cov= []\n",
    "        cov.append(emCov1)\n",
    "        cov.append(emCov2)\n",
    "        Mean =[]\n",
    "        Mean.append(emMeans1)\n",
    "        Mean.append(emMeans2)\n",
    "        \n",
    "        tempU = np.zeros((N,2))\n",
    "\n",
    "        for i in range(N):\n",
    "            for j in range(2):\n",
    "                f = P[j] * (1) * math.exp((-1/2 * (xDisparity[i] - Mean[j]) * (xDisparity[i] - Mean[j])) / (cov[j])) / (math.sqrt(2 * math.pi * (cov[j])))\n",
    "                if j == 0:\n",
    "                    a = 1\n",
    "                else:\n",
    "                    a = 0\n",
    "                tem = P[a] *(1) * math.exp((-1/2 * (xDisparity[i] - Mean[a]) * (xDisparity[i] - Mean[a]))/ (cov[a])) / (math.sqrt(2 * math.pi * (cov[a])))\n",
    "                tempU[i,j] = f / (f + tem)\n",
    "                memberMatrix = tempU\n",
    "    else:\n",
    "        break\n",
    "        \n",
    "print(\"Mean of Cluster 1 is\",emcluster1Mean,\" and Mean of Cluster 2 is \", emcluster2Mean)\n",
    "print(\"Value of P1 is\" , emP1, \" and Value of P2 is\", emP2)\n",
    "print(\"Variance of Cluster 1 is\", clusterCov1, \" and Variance of Cluster 2 is\", clusterCov2)"
   ]
  },
  {
   "cell_type": "code",
   "execution_count": null,
   "metadata": {},
   "outputs": [],
   "source": []
  }
 ],
 "metadata": {
  "kernelspec": {
   "display_name": "Python 3",
   "language": "python",
   "name": "python3"
  },
  "language_info": {
   "codemirror_mode": {
    "name": "ipython",
    "version": 3
   },
   "file_extension": ".py",
   "mimetype": "text/x-python",
   "name": "python",
   "nbconvert_exporter": "python",
   "pygments_lexer": "ipython3",
   "version": "3.7.4"
  }
 },
 "nbformat": 4,
 "nbformat_minor": 2
}
